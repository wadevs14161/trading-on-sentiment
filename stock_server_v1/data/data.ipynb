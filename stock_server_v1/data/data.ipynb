{
 "cells": [
  {
   "cell_type": "code",
   "execution_count": 3,
   "id": "5a9cd7c1-d539-4967-b4f8-c2d0f1758d56",
   "metadata": {},
   "outputs": [
    {
     "data": {
      "text/plain": [
       "['reddit_posts_wallstreetbets_2025-05.csv']"
      ]
     },
     "execution_count": 3,
     "metadata": {},
     "output_type": "execute_result"
    }
   ],
   "source": [
    "import os\n",
    "os.listdir(path='./raw data')"
   ]
  },
  {
   "cell_type": "code",
   "execution_count": 2,
   "id": "cc8bef58-c95e-4ae3-a530-da533e05e23d",
   "metadata": {},
   "outputs": [],
   "source": [
    "import pandas as pd"
   ]
  },
  {
   "cell_type": "code",
   "execution_count": 19,
   "id": "c5fd63f4-3173-471a-ba7c-d0c5e1ad29d1",
   "metadata": {},
   "outputs": [],
   "source": [
    "df = pd.read_csv('raw data/reddit_posts_wallstreetbets_2025-04.csv')"
   ]
  },
  {
   "cell_type": "code",
   "execution_count": 20,
   "id": "1b9a96f5-e9b8-4f82-b406-e850a85ca785",
   "metadata": {},
   "outputs": [
    {
     "name": "stdout",
     "output_type": "stream",
     "text": [
      "2025-04-21 04:49:42\n",
      "2025-04-30 23:19:41\n"
     ]
    }
   ],
   "source": [
    "import datetime\n",
    "print(datetime.datetime.fromtimestamp(df['created_utc'].min()))\n",
    "print(datetime.datetime.fromtimestamp(df['created_utc'].max()))"
   ]
  },
  {
   "cell_type": "code",
   "execution_count": null,
   "id": "1e7a4f17-823d-40a7-b1de-9f1d23158066",
   "metadata": {},
   "outputs": [],
   "source": []
  }
 ],
 "metadata": {
  "kernelspec": {
   "display_name": "venv-stock",
   "language": "python",
   "name": "venv-stock"
  },
  "language_info": {
   "codemirror_mode": {
    "name": "ipython",
    "version": 3
   },
   "file_extension": ".py",
   "mimetype": "text/x-python",
   "name": "python",
   "nbconvert_exporter": "python",
   "pygments_lexer": "ipython3",
   "version": "3.12.1"
  }
 },
 "nbformat": 4,
 "nbformat_minor": 5
}
