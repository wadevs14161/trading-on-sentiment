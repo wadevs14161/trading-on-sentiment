{
 "cells": [
  {
   "cell_type": "markdown",
   "id": "17eb70a1-ebb6-4e1f-a32a-65798a8f8c35",
   "metadata": {},
   "source": [
    "### Huggingface model\n",
    "- cardiffnlp/twitter-roberta-base-sentiment (58M)\n",
    "- spacesedan/reddit-sentiment-analysis-longformer (149M)"
   ]
  },
  {
   "cell_type": "code",
   "execution_count": 1,
   "id": "52b6f1f1-404c-40c1-af32-ce8b4411f78e",
   "metadata": {},
   "outputs": [],
   "source": [
    "import pandas as pd"
   ]
  },
  {
   "cell_type": "code",
   "execution_count": 6,
   "id": "be9fde8b-f0a6-4651-9465-a2ce372be43a",
   "metadata": {},
   "outputs": [],
   "source": [
    "df = pd.read_csv('reddit_sentiment_data_models.csv')"
   ]
  },
  {
   "cell_type": "code",
   "execution_count": 7,
   "id": "02cda2a8-265a-4831-abe5-d2765135f2fc",
   "metadata": {},
   "outputs": [
    {
     "data": {
      "text/plain": [
       "(55546, 12)"
      ]
     },
     "execution_count": 7,
     "metadata": {},
     "output_type": "execute_result"
    }
   ],
   "source": [
    "df.shape"
   ]
  },
  {
   "cell_type": "code",
   "execution_count": 4,
   "id": "75fe7515-41a0-45ee-8687-22aa6ecb4d39",
   "metadata": {},
   "outputs": [
    {
     "name": "stderr",
     "output_type": "stream",
     "text": [
      "/Users/wenshinluo/.pyenv/versions/ml/lib/python3.12/site-packages/tqdm/auto.py:21: TqdmWarning: IProgress not found. Please update jupyter and ipywidgets. See https://ipywidgets.readthedocs.io/en/stable/user_install.html\n",
      "  from .autonotebook import tqdm as notebook_tqdm\n"
     ]
    }
   ],
   "source": [
    "# # Import required libraries for sentiment analysis\n",
    "# from transformers import AutoModelForSequenceClassification, AutoTokenizer\n",
    "# import numpy as np\n",
    "# from scipy.special import softmax\n",
    "# import csv\n",
    "# import urllib.request"
   ]
  },
  {
   "cell_type": "code",
   "execution_count": 5,
   "id": "5ed8cd8a",
   "metadata": {},
   "outputs": [],
   "source": [
    "# Preprocess text (username and link placeholders)\n",
    "def preprocess(text):\n",
    "    new_text = []\n",
    "    for t in text.split(\" \"):\n",
    "        t = '@user' if t.startswith('@') and len(t) > 1 else t\n",
    "        t = 'http' if t.startswith('http') else t\n",
    "        new_text.append(t)\n",
    "    return \" \".join(new_text)"
   ]
  },
  {
   "cell_type": "code",
   "execution_count": 7,
   "id": "0bbfaf95",
   "metadata": {},
   "outputs": [
    {
     "name": "stdout",
     "output_type": "stream",
     "text": [
      "Loading tokenizer and model...\n",
      "Labels: ['Very Negative', 'Negative', 'Neutral', 'Positive', 'Very Positive']\n",
      "Model loaded successfully!\n"
     ]
    }
   ],
   "source": [
    "# # Load the RoBERTa sentiment model\n",
    "# # task = 'sentiment'\n",
    "# MODEL = \"spacesedan/reddit-sentiment-analysis-longformer\"\n",
    "\n",
    "# print(\"Loading tokenizer and model...\")\n",
    "# tokenizer = AutoTokenizer.from_pretrained(MODEL)\n",
    "# model = AutoModelForSequenceClassification.from_pretrained(MODEL)\n",
    "\n",
    "# # # Download label mapping\n",
    "# # labels = []\n",
    "# # mapping_link = f\"https://raw.githubusercontent.com/cardiffnlp/tweeteval/main/datasets/{task}/mapping.txt\"\n",
    "# # with urllib.request.urlopen(mapping_link) as f:\n",
    "# #     html = f.read().decode('utf-8').split(\"\\n\")\n",
    "# #     csvreader = csv.reader(html, delimiter='\\t')\n",
    "# # labels = [row[1] for row in csvreader if len(row) > 1]\n",
    "\n",
    "# labels = ['Very Negative', 'Negative', 'Neutral', 'Positive', 'Very Positive']\n",
    "\n",
    "# print(f\"Labels: {labels}\")\n",
    "# print(\"Model loaded successfully!\")"
   ]
  },
  {
   "cell_type": "code",
   "execution_count": 8,
   "id": "c34306d2",
   "metadata": {},
   "outputs": [],
   "source": [
    "# Function to get sentiment score (0=Negative, 1=Neutral, 2=Positive)\n",
    "def get_sentiment_score(text):\n",
    "    if pd.isna(text) or text == '' or str(text).strip() == '':\n",
    "        return 0  # Return 0 (Negative) for NaN or empty values\n",
    "    \n",
    "    try:\n",
    "        # Preprocess the text\n",
    "        processed_text = preprocess(str(text))\n",
    "        \n",
    "        # Tokenize and get model prediction\n",
    "        encoded_input = tokenizer(processed_text, return_tensors='pt', truncation=True, max_length=512)\n",
    "        output = model(**encoded_input)\n",
    "        scores = output[0][0].detach().numpy()\n",
    "        scores = softmax(scores)\n",
    "        \n",
    "        # Get the predicted class (0=Negative, 1=Neutral, 2=Positive)\n",
    "        predicted_class = np.argmax(scores)\n",
    "        return int(predicted_class)\n",
    "    \n",
    "    except Exception as e:\n",
    "        print(f\"Error processing text: {str(text)[:50]}... - {e}\")\n",
    "        return 0  # Return 0 (Negative) for errors as well"
   ]
  },
  {
   "cell_type": "code",
   "execution_count": 13,
   "id": "2cb956f0",
   "metadata": {},
   "outputs": [
    {
     "name": "stdout",
     "output_type": "stream",
     "text": [
      "Analyzing sentiment for titles in batch 1...\n",
      "Analyzing sentiment for bodies in batch 1...\n",
      "Batch 1 saved to sentiment_results_batch_1.csv\n",
      "Batch 1 took 2505.81 seconds to process.\n",
      "\n",
      "Analyzing sentiment for titles in batch 2...\n",
      "Analyzing sentiment for bodies in batch 2...\n",
      "Batch 2 saved to sentiment_results_batch_2.csv\n",
      "Batch 2 took 2581.67 seconds to process.\n",
      "\n",
      "Analyzing sentiment for titles in batch 3...\n",
      "Analyzing sentiment for bodies in batch 3...\n",
      "Batch 3 saved to sentiment_results_batch_3.csv\n",
      "Batch 3 took 2645.66 seconds to process.\n",
      "\n",
      "Analyzing sentiment for titles in batch 4...\n",
      "Analyzing sentiment for bodies in batch 4...\n",
      "Batch 4 saved to sentiment_results_batch_4.csv\n",
      "Batch 4 took 2486.52 seconds to process.\n",
      "\n",
      "Analyzing sentiment for titles in batch 5...\n",
      "Analyzing sentiment for bodies in batch 5...\n",
      "Batch 5 saved to sentiment_results_batch_5.csv\n",
      "Batch 5 took 2640.95 seconds to process.\n",
      "\n",
      "Analyzing sentiment for titles in batch 6...\n",
      "Analyzing sentiment for bodies in batch 6...\n",
      "Batch 6 saved to sentiment_results_batch_6.csv\n",
      "Batch 6 took 2681.76 seconds to process.\n",
      "\n",
      "Analyzing sentiment for titles in batch 7...\n",
      "Analyzing sentiment for bodies in batch 7...\n",
      "Batch 7 saved to sentiment_results_batch_7.csv\n",
      "Batch 7 took 2545.39 seconds to process.\n",
      "\n",
      "Analyzing sentiment for titles in batch 8...\n",
      "Analyzing sentiment for bodies in batch 8...\n",
      "Batch 8 saved to sentiment_results_batch_8.csv\n",
      "Batch 8 took 2456.72 seconds to process.\n",
      "\n",
      "Analyzing sentiment for titles in batch 9...\n",
      "Analyzing sentiment for bodies in batch 9...\n",
      "Batch 9 saved to sentiment_results_batch_9.csv\n",
      "Batch 9 took 2511.83 seconds to process.\n",
      "\n",
      "Analyzing sentiment for titles in batch 10...\n",
      "Analyzing sentiment for bodies in batch 10...\n",
      "Batch 10 saved to sentiment_results_batch_10.csv\n",
      "Batch 10 took 2549.41 seconds to process.\n",
      "\n",
      "Analyzing sentiment for titles in batch 11...\n",
      "Analyzing sentiment for bodies in batch 11...\n",
      "Batch 11 saved to sentiment_results_batch_11.csv\n",
      "Batch 11 took 3596.85 seconds to process.\n",
      "\n",
      "Analyzing sentiment for titles in batch 12...\n",
      "Analyzing sentiment for bodies in batch 12...\n",
      "Batch 12 saved to sentiment_results_batch_12.csv\n",
      "Batch 12 took 214.98 seconds to process.\n",
      "\n",
      "All sentiment analysis and saving complete! 🎉\n",
      "CPU times: user 11h 44min 52s, sys: 3h 38min 57s, total: 15h 23min 50s\n",
      "Wall time: 8h 10min 17s\n"
     ]
    }
   ],
   "source": [
    "# %%time\n",
    "# import time\n",
    "\n",
    "# # Define your batch size and the total number of rows\n",
    "# batch_size = 5000\n",
    "# total_rows = len(df)\n",
    "\n",
    "# # Loop through the DataFrame in batches\n",
    "# for i in range(0, total_rows, batch_size):\n",
    "#     start_time = time.time()  # Record the start time\n",
    "\n",
    "#     # Select the current batch\n",
    "#     batch_df = df.iloc[i:i + batch_size].copy()\n",
    "\n",
    "#     # Apply sentiment analysis to the title and body columns of the batch\n",
    "#     print(f\"Analyzing sentiment for titles in batch {i // batch_size + 1}...\")\n",
    "#     batch_df['title_score_longformer'] = batch_df['title'].apply(get_sentiment_score)\n",
    "\n",
    "#     print(f\"Analyzing sentiment for bodies in batch {i // batch_size + 1}...\")\n",
    "#     batch_df['body_score_longformer'] = batch_df['body'].apply(get_sentiment_score)\n",
    "\n",
    "#     # Save the processed batch to a new CSV file\n",
    "#     file_name = f\"sentiment_results_batch_{i // batch_size + 1}.csv\"\n",
    "#     batch_df.to_csv(file_name, index=False)\n",
    "\n",
    "#     end_time = time.time()  # Record the end time\n",
    "#     duration = end_time - start_time # Calculate the duration\n",
    "\n",
    "#     print(f\"Batch {i // batch_size + 1} saved to {file_name}\")\n",
    "#     print(f\"Batch {i // batch_size + 1} took {duration:.2f} seconds to process.\\n\")\n",
    "\n",
    "# print(\"All sentiment analysis and saving complete! 🎉\")"
   ]
  },
  {
   "cell_type": "code",
   "execution_count": 14,
   "id": "47a9610b-9d8a-432e-a228-41cc0d30aaa7",
   "metadata": {},
   "outputs": [
    {
     "name": "stdout",
     "output_type": "stream",
     "text": [
      "Successfully concatenated 12 files into one DataFrame.\n"
     ]
    }
   ],
   "source": [
    "import pandas as pd\n",
    "import glob\n",
    "import os\n",
    "\n",
    "# Define the pattern to match all the output files\n",
    "# This will find all files starting with \"sentiment_results_batch_\" and ending with \".csv\"\n",
    "file_pattern = \"sentiment_results_batch_*.csv\"\n",
    "\n",
    "# Use glob to get a list of all matching file names\n",
    "all_files = glob.glob(file_pattern)\n",
    "\n",
    "# Create an empty list to hold the DataFrames\n",
    "list_of_dfs = []\n",
    "\n",
    "# Loop through the list of files, read each one, and append it to the list\n",
    "for file in all_files:\n",
    "    df_temp = pd.read_csv(file)\n",
    "    list_of_dfs.append(df_temp)\n",
    "\n",
    "# Concatenate all the DataFrames in the list into one single DataFrame\n",
    "final_df = pd.concat(list_of_dfs, ignore_index=True)\n",
    "\n",
    "# Optional: Save the final concatenated DataFrame to a new CSV file\n",
    "# final_df.to_csv(\"all_sentiment_results_combined.csv\", index=False)\n",
    "\n",
    "print(f\"Successfully concatenated {len(all_files)} files into one DataFrame.\")\n",
    "# print(\"The combined DataFrame has been saved to 'all_sentiment_results_combined.csv'.\")"
   ]
  },
  {
   "cell_type": "code",
   "execution_count": 8,
   "id": "e620db77-8342-4c1e-aa4f-970e80f032ab",
   "metadata": {},
   "outputs": [
    {
     "data": {
      "text/html": [
       "<div>\n",
       "<style scoped>\n",
       "    .dataframe tbody tr th:only-of-type {\n",
       "        vertical-align: middle;\n",
       "    }\n",
       "\n",
       "    .dataframe tbody tr th {\n",
       "        vertical-align: top;\n",
       "    }\n",
       "\n",
       "    .dataframe thead th {\n",
       "        text-align: right;\n",
       "    }\n",
       "</style>\n",
       "<table border=\"1\" class=\"dataframe\">\n",
       "  <thead>\n",
       "    <tr style=\"text-align: right;\">\n",
       "      <th></th>\n",
       "      <th>title</th>\n",
       "      <th>score</th>\n",
       "      <th>comms_num</th>\n",
       "      <th>body</th>\n",
       "      <th>date</th>\n",
       "      <th>stock</th>\n",
       "      <th>title_score_stanza</th>\n",
       "      <th>body_score_stanza</th>\n",
       "      <th>title_score_roberta</th>\n",
       "      <th>body_score_roberta</th>\n",
       "      <th>title_score_longformer</th>\n",
       "      <th>body_score_longformer</th>\n",
       "    </tr>\n",
       "  </thead>\n",
       "  <tbody>\n",
       "    <tr>\n",
       "      <th>0</th>\n",
       "      <td>Exit the system</td>\n",
       "      <td>0</td>\n",
       "      <td>47</td>\n",
       "      <td>The CEO of NASDAQ pushed to halt trading “to g...</td>\n",
       "      <td>2021-01-28</td>\n",
       "      <td>GME</td>\n",
       "      <td>1.0</td>\n",
       "      <td>1</td>\n",
       "      <td>0</td>\n",
       "      <td>1</td>\n",
       "      <td>1</td>\n",
       "      <td>0</td>\n",
       "    </tr>\n",
       "    <tr>\n",
       "      <th>1</th>\n",
       "      <td>Not to distract from GME, just thought our AMC...</td>\n",
       "      <td>71</td>\n",
       "      <td>156</td>\n",
       "      <td>NaN</td>\n",
       "      <td>2021-01-28</td>\n",
       "      <td>GME</td>\n",
       "      <td>1.0</td>\n",
       "      <td>0</td>\n",
       "      <td>1</td>\n",
       "      <td>0</td>\n",
       "      <td>0</td>\n",
       "      <td>0</td>\n",
       "    </tr>\n",
       "    <tr>\n",
       "      <th>2</th>\n",
       "      <td>Not to distract from GME, just thought our AMC...</td>\n",
       "      <td>71</td>\n",
       "      <td>156</td>\n",
       "      <td>NaN</td>\n",
       "      <td>2021-01-28</td>\n",
       "      <td>AMC</td>\n",
       "      <td>1.0</td>\n",
       "      <td>0</td>\n",
       "      <td>1</td>\n",
       "      <td>0</td>\n",
       "      <td>2</td>\n",
       "      <td>0</td>\n",
       "    </tr>\n",
       "    <tr>\n",
       "      <th>3</th>\n",
       "      <td>SHORT STOCK DOESN'T HAVE AN EXPIRATION DATE</td>\n",
       "      <td>317</td>\n",
       "      <td>53</td>\n",
       "      <td>Hedgefund whales are spreading disinfo saying ...</td>\n",
       "      <td>2021-01-28</td>\n",
       "      <td>GME</td>\n",
       "      <td>1.0</td>\n",
       "      <td>1</td>\n",
       "      <td>0</td>\n",
       "      <td>0</td>\n",
       "      <td>2</td>\n",
       "      <td>0</td>\n",
       "    </tr>\n",
       "    <tr>\n",
       "      <th>4</th>\n",
       "      <td>SHORT STOCK DOESN'T HAVE AN EXPIRATION DATE</td>\n",
       "      <td>317</td>\n",
       "      <td>53</td>\n",
       "      <td>Hedgefund whales are spreading disinfo saying ...</td>\n",
       "      <td>2021-01-28</td>\n",
       "      <td>BE</td>\n",
       "      <td>1.0</td>\n",
       "      <td>1</td>\n",
       "      <td>0</td>\n",
       "      <td>0</td>\n",
       "      <td>2</td>\n",
       "      <td>0</td>\n",
       "    </tr>\n",
       "  </tbody>\n",
       "</table>\n",
       "</div>"
      ],
      "text/plain": [
       "                                               title  score  comms_num  \\\n",
       "0                                    Exit the system      0         47   \n",
       "1  Not to distract from GME, just thought our AMC...     71        156   \n",
       "2  Not to distract from GME, just thought our AMC...     71        156   \n",
       "3        SHORT STOCK DOESN'T HAVE AN EXPIRATION DATE    317         53   \n",
       "4        SHORT STOCK DOESN'T HAVE AN EXPIRATION DATE    317         53   \n",
       "\n",
       "                                                body        date stock  \\\n",
       "0  The CEO of NASDAQ pushed to halt trading “to g...  2021-01-28   GME   \n",
       "1                                                NaN  2021-01-28   GME   \n",
       "2                                                NaN  2021-01-28   AMC   \n",
       "3  Hedgefund whales are spreading disinfo saying ...  2021-01-28   GME   \n",
       "4  Hedgefund whales are spreading disinfo saying ...  2021-01-28    BE   \n",
       "\n",
       "   title_score_stanza  body_score_stanza  title_score_roberta  \\\n",
       "0                 1.0                  1                    0   \n",
       "1                 1.0                  0                    1   \n",
       "2                 1.0                  0                    1   \n",
       "3                 1.0                  1                    0   \n",
       "4                 1.0                  1                    0   \n",
       "\n",
       "   body_score_roberta  title_score_longformer  body_score_longformer  \n",
       "0                   1                       1                      0  \n",
       "1                   0                       0                      0  \n",
       "2                   0                       2                      0  \n",
       "3                   0                       2                      0  \n",
       "4                   0                       2                      0  "
      ]
     },
     "execution_count": 8,
     "metadata": {},
     "output_type": "execute_result"
    }
   ],
   "source": [
    "df.head()"
   ]
  },
  {
   "cell_type": "code",
   "execution_count": 12,
   "id": "969aaeda-0947-4389-9777-a3a5f0515e52",
   "metadata": {},
   "outputs": [],
   "source": [
    "import matplotlib.pyplot as plt\n",
    "import numpy as np"
   ]
  },
  {
   "cell_type": "code",
   "execution_count": 17,
   "id": "697ed5e3-c6ef-40ee-824a-467c683d64a4",
   "metadata": {},
   "outputs": [
    {
     "data": {
      "image/png": "[encoded data removed]",
      "text/plain": [
       "<Figure size 1200x1000 with 6 Axes>"
      ]
     },
     "metadata": {},
     "output_type": "display_data"
    }
   ],
   "source": [
    "# Define the columns you want to plot\n",
    "columns_to_plot = ['title_score_stanza', 'body_score_stanza', 'title_score_longformer', 'body_score_longformer', 'title_score_roberta', 'body_score_roberta']\n",
    "\n",
    "# Create a figure with a 2x2 grid of subplots for the four histograms\n",
    "fig, axes = plt.subplots(3, 2, figsize=(12, 10))\n",
    "fig.suptitle('Distribution of Sentiment Scores', fontsize=16)\n",
    "\n",
    "# Flatten the axes array for easy iteration\n",
    "axes = axes.flatten()\n",
    "\n",
    "# Iterate through the columns and plot a histogram for each\n",
    "for i, col in enumerate(columns_to_plot):\n",
    "    axes[i].hist(df[col], bins=np.arange(6) - 0.5, edgecolor='black', color='skyblue')\n",
    "    axes[i].set_title(col)\n",
    "    axes[i].set_xlabel('Score')\n",
    "    axes[i].set_ylabel('Frequency')\n",
    "    axes[i].set_xticks(range(6)) # Set x-ticks to be integers 0, 1, 2, 3, 4, 5\n",
    "\n",
    "# Adjust layout to prevent titles and labels from overlapping\n",
    "plt.tight_layout(rect=[0, 0.03, 1, 0.95])\n",
    "\n",
    "plt.savefig('sentiment_score_distributions.png')\n",
    "plt.show()"
   ]
  },
  {
   "cell_type": "code",
   "execution_count": null,
   "id": "bae39a61-1da8-40f3-8c33-ab18a18a0b31",
   "metadata": {},
   "outputs": [],
   "source": []
  }
 ],
 "metadata": {
  "kernelspec": {
   "display_name": "Python (ml)",
   "language": "python",
   "name": "ml"
  },
  "language_info": {
   "codemirror_mode": {
    "name": "ipython",
    "version": 3
   },
   "file_extension": ".py",
   "mimetype": "text/x-python",
   "name": "python",
   "nbconvert_exporter": "python",
   "pygments_lexer": "ipython3",
   "version": "3.12.11"
  }
 },
 "nbformat": 4,
 "nbformat_minor": 5
}
