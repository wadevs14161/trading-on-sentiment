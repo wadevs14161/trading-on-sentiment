{
 "cells": [
  {
   "cell_type": "code",
   "execution_count": 212,
   "id": "910f5bc1-c865-44b2-ae0b-dcc4f08b70b9",
   "metadata": {},
   "outputs": [],
   "source": [
    "import pandas as pd\n",
    "import numpy as np"
   ]
  },
  {
   "cell_type": "code",
   "execution_count": 307,
   "id": "3bf2d0b3-9ae5-4c91-bf68-a7780d082ff2",
   "metadata": {},
   "outputs": [
    {
     "data": {
      "text/plain": [
       "(53187, 8)"
      ]
     },
     "execution_count": 307,
     "metadata": {},
     "output_type": "execute_result"
    }
   ],
   "source": [
    "df = pd.read_csv('raw data/reddit_wsb.csv')\n",
    "df.shape"
   ]
  },
  {
   "cell_type": "code",
   "execution_count": 313,
   "id": "ca531a35-5231-4baf-98d4-b38cc4222a0f",
   "metadata": {},
   "outputs": [
    {
     "data": {
      "text/plain": [
       "(172032, 8)"
      ]
     },
     "execution_count": 313,
     "metadata": {},
     "output_type": "execute_result"
    }
   ],
   "source": [
    "df = pd.read_csv('reddit_sentiment_gemini_v2.csv')\n",
    "df.shape"
   ]
  },
  {
   "cell_type": "markdown",
   "id": "ba7de397-b5c6-47fc-9409-03e6aeb709c2",
   "metadata": {},
   "source": [
    "### Derive indicators\n",
    "* Engagement ratio = Number of comments / Score"
   ]
  },
  {
   "cell_type": "code",
   "execution_count": 300,
   "id": "4811534f-b9cc-4390-a9ec-246fe7d3dcd5",
   "metadata": {},
   "outputs": [],
   "source": [
    "# Convert 'date' column to datetime format\n",
    "df['date'] = pd.to_datetime(df['date'], format='%Y-%m-%d')\n",
    "# Set multiple index for date and stock\n",
    "df = df.set_index(['date', 'stock'])\n",
    "# Add up sentiment score of title and body\n",
    "df['total_sentiment'] = df['title_sentiment'] + df['body_sentiment']\n",
    "df = df.groupby(['date', 'stock']).agg('sum')\n",
    "# Set score to 1 if it is less than 1\n",
    "df['score'] = np.where(df['score'] < 1, 1, df['score'])\n",
    "# Add column engagement_ratio\n",
    "df['engagement_ratio'] = df['comms_num'] / df['score']\n",
    "# Convert date string to datetime format\n",
    "df = df.reset_index()\n",
    "df = df.set_index(['date', 'stock'])"
   ]
  },
  {
   "cell_type": "markdown",
   "id": "14039600-4be7-4706-9217-b51ea004aa8d",
   "metadata": {},
   "source": [
    "### Aggregate Monthly and calculate average sentiment for the month\n",
    "#### Filter strategy\n",
    "* Top 5 \"Sentiment\" stocks (Not good in return (22-Apr done)\n",
    "* Top 5 \"Engagement\" stocks (Return similar to QQQ in the beginning, then became loss) (27-Apr done)"
   ]
  },
  {
   "cell_type": "code",
   "execution_count": 216,
   "id": "4cefb68b",
   "metadata": {},
   "outputs": [
    {
     "data": {
      "text/html": [
       "<div>\n",
       "<style scoped>\n",
       "    .dataframe tbody tr th:only-of-type {\n",
       "        vertical-align: middle;\n",
       "    }\n",
       "\n",
       "    .dataframe tbody tr th {\n",
       "        vertical-align: top;\n",
       "    }\n",
       "\n",
       "    .dataframe thead th {\n",
       "        text-align: right;\n",
       "    }\n",
       "</style>\n",
       "<table border=\"1\" class=\"dataframe\">\n",
       "  <thead>\n",
       "    <tr style=\"text-align: right;\">\n",
       "      <th></th>\n",
       "      <th></th>\n",
       "      <th>title</th>\n",
       "      <th>score</th>\n",
       "      <th>comms_num</th>\n",
       "      <th>body</th>\n",
       "      <th>title_sentiment</th>\n",
       "      <th>body_sentiment</th>\n",
       "      <th>total_sentiment</th>\n",
       "      <th>engagement_ratio</th>\n",
       "    </tr>\n",
       "    <tr>\n",
       "      <th>date</th>\n",
       "      <th>stock</th>\n",
       "      <th></th>\n",
       "      <th></th>\n",
       "      <th></th>\n",
       "      <th></th>\n",
       "      <th></th>\n",
       "      <th></th>\n",
       "      <th></th>\n",
       "      <th></th>\n",
       "    </tr>\n",
       "  </thead>\n",
       "  <tbody>\n",
       "    <tr>\n",
       "      <th rowspan=\"4\" valign=\"top\">2020-09-29</th>\n",
       "      <th>CBAT</th>\n",
       "      <td>$CBAT $SUNW $SPI $OXBR Y'all are missing the p...</td>\n",
       "      <td>24.0</td>\n",
       "      <td>66.0</td>\n",
       "      <td>$CBAT is going to be a great play further yet:...</td>\n",
       "      <td>0.0</td>\n",
       "      <td>0.0</td>\n",
       "      <td>0.0</td>\n",
       "      <td>2.750000</td>\n",
       "    </tr>\n",
       "    <tr>\n",
       "      <th>OXBR</th>\n",
       "      <td>$CBAT $SUNW $SPI $OXBR Y'all are missing the p...</td>\n",
       "      <td>12.0</td>\n",
       "      <td>33.0</td>\n",
       "      <td>$CBAT is going to be a great play further yet:...</td>\n",
       "      <td>0.0</td>\n",
       "      <td>0.0</td>\n",
       "      <td>0.0</td>\n",
       "      <td>2.750000</td>\n",
       "    </tr>\n",
       "    <tr>\n",
       "      <th>SPI</th>\n",
       "      <td>$CBAT $SUNW $SPI $OXBR Y'all are missing the p...</td>\n",
       "      <td>12.0</td>\n",
       "      <td>33.0</td>\n",
       "      <td>$CBAT is going to be a great play further yet:...</td>\n",
       "      <td>0.0</td>\n",
       "      <td>0.0</td>\n",
       "      <td>0.0</td>\n",
       "      <td>2.750000</td>\n",
       "    </tr>\n",
       "    <tr>\n",
       "      <th>SUNW</th>\n",
       "      <td>$CBAT $SUNW $SPI $OXBR Y'all are missing the p...</td>\n",
       "      <td>12.0</td>\n",
       "      <td>33.0</td>\n",
       "      <td>$CBAT is going to be a great play further yet:...</td>\n",
       "      <td>0.0</td>\n",
       "      <td>0.0</td>\n",
       "      <td>0.0</td>\n",
       "      <td>2.750000</td>\n",
       "    </tr>\n",
       "    <tr>\n",
       "      <th>2021-01-28</th>\n",
       "      <th>AHT</th>\n",
       "      <td>$AHT!!!! LETS GOOOOO $AHT!!!$AHT!!!! LETS GOOO...</td>\n",
       "      <td>1.0</td>\n",
       "      <td>4.0</td>\n",
       "      <td>$AHT!!!! LETS GOOOOO $AHT!!!$AHT!!!! LETS GOOO...</td>\n",
       "      <td>2.0</td>\n",
       "      <td>2.0</td>\n",
       "      <td>4.0</td>\n",
       "      <td>4.000000</td>\n",
       "    </tr>\n",
       "    <tr>\n",
       "      <th>...</th>\n",
       "      <th>...</th>\n",
       "      <td>...</td>\n",
       "      <td>...</td>\n",
       "      <td>...</td>\n",
       "      <td>...</td>\n",
       "      <td>...</td>\n",
       "      <td>...</td>\n",
       "      <td>...</td>\n",
       "      <td>...</td>\n",
       "    </tr>\n",
       "    <tr>\n",
       "      <th rowspan=\"5\" valign=\"top\">2021-08-16</th>\n",
       "      <th>TGT</th>\n",
       "      <td>Historical Post Earnings Moves MEGA Compilatio...</td>\n",
       "      <td>645.0</td>\n",
       "      <td>225.0</td>\n",
       "      <td>**Historical Post Earnings Moves MEGA Compilat...</td>\n",
       "      <td>15.0</td>\n",
       "      <td>15.0</td>\n",
       "      <td>30.0</td>\n",
       "      <td>0.348837</td>\n",
       "    </tr>\n",
       "    <tr>\n",
       "      <th>UPST</th>\n",
       "      <td>Historical Post Earnings Moves MEGA Compilatio...</td>\n",
       "      <td>645.0</td>\n",
       "      <td>225.0</td>\n",
       "      <td>**Historical Post Earnings Moves MEGA Compilat...</td>\n",
       "      <td>15.0</td>\n",
       "      <td>15.0</td>\n",
       "      <td>30.0</td>\n",
       "      <td>0.348837</td>\n",
       "    </tr>\n",
       "    <tr>\n",
       "      <th>VZ</th>\n",
       "      <td>Verizon ($VZ) – Boomer’s Dividends Are Degener...</td>\n",
       "      <td>39.0</td>\n",
       "      <td>51.0</td>\n",
       "      <td>My wife decided to go to her boyfriend’s house...</td>\n",
       "      <td>6.0</td>\n",
       "      <td>6.0</td>\n",
       "      <td>12.0</td>\n",
       "      <td>1.307692</td>\n",
       "    </tr>\n",
       "    <tr>\n",
       "      <th>WMT</th>\n",
       "      <td>Historical Post Earnings Moves MEGA Compilatio...</td>\n",
       "      <td>645.0</td>\n",
       "      <td>225.0</td>\n",
       "      <td>**Historical Post Earnings Moves MEGA Compilat...</td>\n",
       "      <td>15.0</td>\n",
       "      <td>15.0</td>\n",
       "      <td>30.0</td>\n",
       "      <td>0.348837</td>\n",
       "    </tr>\n",
       "    <tr>\n",
       "      <th>ZETA</th>\n",
       "      <td>ZETA global holdings… DDZETA global holdings… DD</td>\n",
       "      <td>1.0</td>\n",
       "      <td>22.0</td>\n",
       "      <td>Ok degenerates – I’d like to introduce you to ...</td>\n",
       "      <td>2.0</td>\n",
       "      <td>2.0</td>\n",
       "      <td>4.0</td>\n",
       "      <td>22.000000</td>\n",
       "    </tr>\n",
       "  </tbody>\n",
       "</table>\n",
       "<p>12418 rows × 8 columns</p>\n",
       "</div>"
      ],
      "text/plain": [
       "                                                              title  score  \\\n",
       "date       stock                                                             \n",
       "2020-09-29 CBAT   $CBAT $SUNW $SPI $OXBR Y'all are missing the p...   24.0   \n",
       "           OXBR   $CBAT $SUNW $SPI $OXBR Y'all are missing the p...   12.0   \n",
       "           SPI    $CBAT $SUNW $SPI $OXBR Y'all are missing the p...   12.0   \n",
       "           SUNW   $CBAT $SUNW $SPI $OXBR Y'all are missing the p...   12.0   \n",
       "2021-01-28 AHT    $AHT!!!! LETS GOOOOO $AHT!!!$AHT!!!! LETS GOOO...    1.0   \n",
       "...                                                             ...    ...   \n",
       "2021-08-16 TGT    Historical Post Earnings Moves MEGA Compilatio...  645.0   \n",
       "           UPST   Historical Post Earnings Moves MEGA Compilatio...  645.0   \n",
       "           VZ     Verizon ($VZ) – Boomer’s Dividends Are Degener...   39.0   \n",
       "           WMT    Historical Post Earnings Moves MEGA Compilatio...  645.0   \n",
       "           ZETA    ZETA global holdings… DDZETA global holdings… DD    1.0   \n",
       "\n",
       "                  comms_num  \\\n",
       "date       stock              \n",
       "2020-09-29 CBAT        66.0   \n",
       "           OXBR        33.0   \n",
       "           SPI         33.0   \n",
       "           SUNW        33.0   \n",
       "2021-01-28 AHT          4.0   \n",
       "...                     ...   \n",
       "2021-08-16 TGT        225.0   \n",
       "           UPST       225.0   \n",
       "           VZ          51.0   \n",
       "           WMT        225.0   \n",
       "           ZETA        22.0   \n",
       "\n",
       "                                                               body  \\\n",
       "date       stock                                                      \n",
       "2020-09-29 CBAT   $CBAT is going to be a great play further yet:...   \n",
       "           OXBR   $CBAT is going to be a great play further yet:...   \n",
       "           SPI    $CBAT is going to be a great play further yet:...   \n",
       "           SUNW   $CBAT is going to be a great play further yet:...   \n",
       "2021-01-28 AHT    $AHT!!!! LETS GOOOOO $AHT!!!$AHT!!!! LETS GOOO...   \n",
       "...                                                             ...   \n",
       "2021-08-16 TGT    **Historical Post Earnings Moves MEGA Compilat...   \n",
       "           UPST   **Historical Post Earnings Moves MEGA Compilat...   \n",
       "           VZ     My wife decided to go to her boyfriend’s house...   \n",
       "           WMT    **Historical Post Earnings Moves MEGA Compilat...   \n",
       "           ZETA   Ok degenerates – I’d like to introduce you to ...   \n",
       "\n",
       "                  title_sentiment  body_sentiment  total_sentiment  \\\n",
       "date       stock                                                     \n",
       "2020-09-29 CBAT               0.0             0.0              0.0   \n",
       "           OXBR               0.0             0.0              0.0   \n",
       "           SPI                0.0             0.0              0.0   \n",
       "           SUNW               0.0             0.0              0.0   \n",
       "2021-01-28 AHT                2.0             2.0              4.0   \n",
       "...                           ...             ...              ...   \n",
       "2021-08-16 TGT               15.0            15.0             30.0   \n",
       "           UPST              15.0            15.0             30.0   \n",
       "           VZ                 6.0             6.0             12.0   \n",
       "           WMT               15.0            15.0             30.0   \n",
       "           ZETA               2.0             2.0              4.0   \n",
       "\n",
       "                  engagement_ratio  \n",
       "date       stock                    \n",
       "2020-09-29 CBAT           2.750000  \n",
       "           OXBR           2.750000  \n",
       "           SPI            2.750000  \n",
       "           SUNW           2.750000  \n",
       "2021-01-28 AHT            4.000000  \n",
       "...                            ...  \n",
       "2021-08-16 TGT            0.348837  \n",
       "           UPST           0.348837  \n",
       "           VZ             1.307692  \n",
       "           WMT            0.348837  \n",
       "           ZETA          22.000000  \n",
       "\n",
       "[12418 rows x 8 columns]"
      ]
     },
     "execution_count": 216,
     "metadata": {},
     "output_type": "execute_result"
    }
   ],
   "source": [
    "df"
   ]
  },
  {
   "cell_type": "code",
   "execution_count": 289,
   "id": "72cddf99-e80f-47bb-b16f-88a11207acff",
   "metadata": {},
   "outputs": [],
   "source": [
    "# Filter strategy\n",
    "indicator = 'comms_num'\n",
    "# Aggregate monthly engagement\n",
    "df_engagement = (df.reset_index('stock').groupby([pd.Grouper(freq='ME'), 'stock'])[[indicator]].mean())\n",
    "# Rank based on specific indicator\n",
    "df_engagement['rank'] = (df_engagement.groupby(level=0)[indicator].transform(lambda x: x.rank(ascending=False).astype(int)))\n",
    "# Filter out top 5 ranking\n",
    "df_filtered = df_engagement[df_engagement['rank'] < 6].copy()\n",
    "# Adjust date to be the first day of the month\n",
    "df_filtered = df_filtered.reset_index('stock')\n",
    "df_filtered.index = df_filtered.index + pd.DateOffset(1)\n",
    "df_filtered = df_filtered.reset_index().set_index(['date', 'stock'])"
   ]
  },
  {
   "cell_type": "markdown",
   "id": "b5abe288-898f-491a-8279-aeb5bef03061",
   "metadata": {},
   "source": [
    "### Extract the stocks to form portfolios with at the start of each new month\n",
    "* Create a dictionary containing start of month and corresponded selected stocks."
   ]
  },
  {
   "cell_type": "code",
   "execution_count": 290,
   "id": "a0f88e14-68d3-4cb2-ae42-87544dc6273a",
   "metadata": {},
   "outputs": [
    {
     "data": {
      "text/plain": [
       "{'2020-10-01': ['CBAT', 'OXBR', 'SPI', 'SUNW'],\n",
       " '2021-02-01': ['AMC', 'BB', 'DIS', 'GME', 'TSLA'],\n",
       " '2021-03-01': ['AMC', 'CRLBF', 'GME', 'HUGE', 'USO'],\n",
       " '2021-04-01': ['ALKS', 'AMAT', 'BLKB', 'FCX', 'GME', 'LEA', 'RKT'],\n",
       " '2021-05-01': ['ANF', 'AVIS', 'GME', 'XRAY'],\n",
       " '2021-06-01': ['ROOT', 'RTX'],\n",
       " '2021-07-01': ['AMC', 'BB', 'CLNE', 'CLOV', 'GME'],\n",
       " '2021-08-01': ['AMC', 'CLOV', 'GME', 'NKE', 'SDOW'],\n",
       " '2021-09-01': ['CLOV', 'MVST']}"
      ]
     },
     "execution_count": 290,
     "metadata": {},
     "output_type": "execute_result"
    }
   ],
   "source": [
    "# Get all dates from each date index\n",
    "dates = df_filtered.index.get_level_values('date').unique().to_list()\n",
    "# List all stocks for each date\n",
    "fixed_dates = {}\n",
    "for date in dates:\n",
    "  fixed_dates[date.strftime('%Y-%m-%d')] = df_filtered.xs(date, level=0).index.tolist()\n",
    "\n",
    "fixed_dates"
   ]
  },
  {
   "cell_type": "markdown",
   "id": "79a0e377-6799-47a8-9b48-2b6a6b2a3c4d",
   "metadata": {},
   "source": [
    "### Download the fresh stock prices for only selected/shortlisted stocks\n",
    "* Calculate cumulative log returns (Time-additive)"
   ]
  },
  {
   "cell_type": "code",
   "execution_count": 291,
   "id": "9a73775a-e137-44bf-8c44-ed196c4987f5",
   "metadata": {},
   "outputs": [],
   "source": [
    "# List all wanted stocks\n",
    "stock_list = df_filtered.index.get_level_values('stock').unique().to_list()"
   ]
  },
  {
   "cell_type": "code",
   "execution_count": 292,
   "id": "b442f3a0-fa46-4f17-a738-ff29823eed60",
   "metadata": {},
   "outputs": [
    {
     "name": "stdout",
     "output_type": "stream",
     "text": [
      "Error reading SPI.csv\n",
      "Error reading SUNW.csv\n",
      "Error reading CRLBF.csv\n",
      "Error reading HUGE.csv\n",
      "Error reading USO.csv\n",
      "Error reading AVIS.csv\n",
      "Error reading SDOW.csv\n"
     ]
    }
   ],
   "source": [
    "# import yfinance as yf\n",
    "# start = pd.to_datetime(list(fixed_dates.keys())[0])\n",
    "start = pd.to_datetime(\"2021-03-01\")\n",
    "start = start.strftime('%Y-%m-%d')\n",
    "# end = pd.to_datetime(list(fixed_dates.keys())[-1])\n",
    "end = pd.to_datetime(\"2021-08-31\")\n",
    "end = end.strftime('%Y-%m-%d')\n",
    "# import yfinance as yf\n",
    "# df_all = yf.download(tickers=stock_list,\n",
    "#             start=start,\n",
    "#             end=end)\n",
    "#--------------------TRY USING PRE-DOWNLOADED LOCAL DATA-------------------------------------------\n",
    "# Load data from csv instead of downloading\n",
    "df_all = pd.DataFrame()\n",
    "for ticker in stock_list:\n",
    "    try:\n",
    "        df_temp = pd.read_csv(f'stock_historical_prices_2019-2024/{ticker}.csv').set_index('Price')[start:end]['Close'].to_frame(ticker)\n",
    "    except:\n",
    "        print(f'Error reading {ticker}.csv')\n",
    "        # If df_temp cannot be read, let the ticker be NaN\n",
    "        df_temp = pd.DataFrame(index=pd.date_range(start, end), columns=[ticker])\n",
    "        df_temp[ticker] = np.nan\n",
    "    df_all = pd.concat([df_all, df_temp], axis=1)\n",
    "df_return = np.log(df_all.astype('float64')).diff().dropna(how='all')\n"
   ]
  },
  {
   "cell_type": "code",
   "execution_count": 293,
   "id": "4b845bae",
   "metadata": {},
   "outputs": [],
   "source": [
    "# Calculate log return of each stocks\n",
    "# df_return = np.log(df_price['Close']).diff().dropna(how='all')"
   ]
  },
  {
   "cell_type": "code",
   "execution_count": 294,
   "id": "335937d6-fbf3-463b-a79c-be8687f6011d",
   "metadata": {},
   "outputs": [],
   "source": [
    "# Calculate portfolio return\n",
    "df_portfolio = pd.DataFrame()\n",
    "for start_date in fixed_dates.keys():\n",
    "    # Find next month end as end date\n",
    "    end_date = (pd.to_datetime(start_date) + pd.offsets.MonthEnd()).strftime('%Y-%m-%d')\n",
    "    # print(start_date, end_date)\n",
    "    tickers = fixed_dates[start_date]\n",
    "    # print(tickers)\n",
    "    df_temp = df_return[start_date:end_date][tickers].mean(axis=1).to_frame('portfolio_return')\n",
    "    # print(df_temp)\n",
    "    df_portfolio = pd.concat([df_portfolio, df_temp], axis=0)\n",
    "    \n",
    "df_portfolio.index = pd.to_datetime(df_portfolio.index)"
   ]
  },
  {
   "cell_type": "markdown",
   "id": "ef643f33-9429-47c7-8d2e-b73033f2f1a8",
   "metadata": {},
   "source": [
    "### Download prices of NASDAQ / QQQ and calculate returns to compare to our strategy"
   ]
  },
  {
   "cell_type": "code",
   "execution_count": 295,
   "id": "ee7d17c7",
   "metadata": {},
   "outputs": [],
   "source": [
    "df_qqq = pd.read_csv('market_indexes_2019-2024/QQQ.csv').set_index('Price')[start:end]\n",
    "df_qqq = df_qqq.astype('float64')\n",
    "df_qqq.index = pd.to_datetime(df_qqq.index)\n",
    "return_qqq = np.log(df_qqq['Close']).diff().dropna()\n",
    "return_qqq.name = 'QQQ'"
   ]
  },
  {
   "cell_type": "code",
   "execution_count": 296,
   "id": "c81054c7",
   "metadata": {},
   "outputs": [],
   "source": [
    "df_return_portfolio = df_portfolio.merge(return_qqq,\n",
    "                                  left_index=True,\n",
    "                                  right_index=True)"
   ]
  },
  {
   "cell_type": "code",
   "execution_count": 297,
   "id": "3c25e9d2",
   "metadata": {},
   "outputs": [
    {
     "data": {
      "text/html": [
       "<div>\n",
       "<style scoped>\n",
       "    .dataframe tbody tr th:only-of-type {\n",
       "        vertical-align: middle;\n",
       "    }\n",
       "\n",
       "    .dataframe tbody tr th {\n",
       "        vertical-align: top;\n",
       "    }\n",
       "\n",
       "    .dataframe thead th {\n",
       "        text-align: right;\n",
       "    }\n",
       "</style>\n",
       "<table border=\"1\" class=\"dataframe\">\n",
       "  <thead>\n",
       "    <tr style=\"text-align: right;\">\n",
       "      <th></th>\n",
       "      <th>portfolio_return</th>\n",
       "      <th>QQQ</th>\n",
       "    </tr>\n",
       "  </thead>\n",
       "  <tbody>\n",
       "    <tr>\n",
       "      <th>2021-03-02</th>\n",
       "      <td>-0.023111</td>\n",
       "      <td>-0.016169</td>\n",
       "    </tr>\n",
       "    <tr>\n",
       "      <th>2021-03-03</th>\n",
       "      <td>0.004770</td>\n",
       "      <td>-0.029450</td>\n",
       "    </tr>\n",
       "    <tr>\n",
       "      <th>2021-03-04</th>\n",
       "      <td>-0.001266</td>\n",
       "      <td>-0.016502</td>\n",
       "    </tr>\n",
       "    <tr>\n",
       "      <th>2021-03-05</th>\n",
       "      <td>0.021203</td>\n",
       "      <td>0.014949</td>\n",
       "    </tr>\n",
       "    <tr>\n",
       "      <th>2021-03-08</th>\n",
       "      <td>0.244165</td>\n",
       "      <td>-0.028723</td>\n",
       "    </tr>\n",
       "    <tr>\n",
       "      <th>...</th>\n",
       "      <td>...</td>\n",
       "      <td>...</td>\n",
       "    </tr>\n",
       "    <tr>\n",
       "      <th>2021-08-25</th>\n",
       "      <td>-0.020269</td>\n",
       "      <td>0.001148</td>\n",
       "    </tr>\n",
       "    <tr>\n",
       "      <th>2021-08-26</th>\n",
       "      <td>-0.026096</td>\n",
       "      <td>-0.006370</td>\n",
       "    </tr>\n",
       "    <tr>\n",
       "      <th>2021-08-27</th>\n",
       "      <td>0.007844</td>\n",
       "      <td>0.009673</td>\n",
       "    </tr>\n",
       "    <tr>\n",
       "      <th>2021-08-30</th>\n",
       "      <td>0.016794</td>\n",
       "      <td>0.011160</td>\n",
       "    </tr>\n",
       "    <tr>\n",
       "      <th>2021-08-31</th>\n",
       "      <td>0.029580</td>\n",
       "      <td>-0.000815</td>\n",
       "    </tr>\n",
       "  </tbody>\n",
       "</table>\n",
       "<p>128 rows × 2 columns</p>\n",
       "</div>"
      ],
      "text/plain": [
       "            portfolio_return       QQQ\n",
       "2021-03-02         -0.023111 -0.016169\n",
       "2021-03-03          0.004770 -0.029450\n",
       "2021-03-04         -0.001266 -0.016502\n",
       "2021-03-05          0.021203  0.014949\n",
       "2021-03-08          0.244165 -0.028723\n",
       "...                      ...       ...\n",
       "2021-08-25         -0.020269  0.001148\n",
       "2021-08-26         -0.026096 -0.006370\n",
       "2021-08-27          0.007844  0.009673\n",
       "2021-08-30          0.016794  0.011160\n",
       "2021-08-31          0.029580 -0.000815\n",
       "\n",
       "[128 rows x 2 columns]"
      ]
     },
     "execution_count": 297,
     "metadata": {},
     "output_type": "execute_result"
    }
   ],
   "source": [
    "df_return_portfolio"
   ]
  },
  {
   "cell_type": "code",
   "execution_count": 298,
   "id": "2c63fd8d-f6ef-46c4-b837-5a8a3546b972",
   "metadata": {},
   "outputs": [
    {
     "data": {
      "image/png": "[encoded data removed]",
      "text/plain": [
       "<Figure size 1600x600 with 1 Axes>"
      ]
     },
     "metadata": {},
     "output_type": "display_data"
    }
   ],
   "source": [
    "import matplotlib.pyplot as plt\n",
    "import matplotlib.ticker as mtick\n",
    "portfolio_cumulative_return = np.exp(np.log1p(df_return_portfolio).cumsum()).sub(1)\n",
    "\n",
    "portfolio_cumulative_return.plot(figsize=(16, 6))\n",
    "plt.title('Reddit WSB Top sentiment Strategy Return Over Time')\n",
    "plt.gca().yaxis.set_major_formatter(mtick.PercentFormatter(1))\n",
    "plt.ylabel('Return')\n",
    "plt.show()"
   ]
  }
 ],
 "metadata": {
  "kernelspec": {
   "display_name": "Python (ml)",
   "language": "python",
   "name": "ml"
  },
  "language_info": {
   "codemirror_mode": {
    "name": "ipython",
    "version": 3
   },
   "file_extension": ".py",
   "mimetype": "text/x-python",
   "name": "python",
   "nbconvert_exporter": "python",
   "pygments_lexer": "ipython3",
   "version": "3.12.11"
  }
 },
 "nbformat": 4,
 "nbformat_minor": 5
}
